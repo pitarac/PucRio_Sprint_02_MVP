{
  "nbformat": 4,
  "nbformat_minor": 0,
  "metadata": {
    "colab": {
      "provenance": [],
      "authorship_tag": "ABX9TyPwquZhJBfCFFCLnG+STRKa",
      "include_colab_link": true
    },
    "kernelspec": {
      "name": "python3",
      "display_name": "Python 3"
    },
    "language_info": {
      "name": "python"
    }
  },
  "cells": [
    {
      "cell_type": "markdown",
      "metadata": {
        "id": "view-in-github",
        "colab_type": "text"
      },
      "source": [
        "<a href=\"https://colab.research.google.com/github/pitarac/PucRio_Sprint_02_MVP/blob/main/Parte_II.ipynb\" target=\"_parent\"><img src=\"https://colab.research.google.com/assets/colab-badge.svg\" alt=\"Open In Colab\"/></a>"
      ]
    },
    {
      "cell_type": "code",
      "execution_count": null,
      "metadata": {
        "id": "6e8pUfh3K-Je"
      },
      "outputs": [],
      "source": []
    },
    {
      "cell_type": "markdown",
      "source": [
        "# **Parte II **\n",
        "\n",
        "#\n",
        "\n",
        "## Identificação\n",
        "\n",
        "**Nome do aluno:** Paulo Henrique Lima da Silva CPF: 032.838.091-19<br>\n",
        "**Disciplina:** Sprint II Machine Learning & Analytics (40530010056_20230_01)<br>  \n",
        "**Curso:** Ciência de Dados e Analytics<br>  \n",
        "**Instituição:** PUC-Rio<br>\n"
      ],
      "metadata": {
        "id": "VErjNVpOLshL"
      }
    },
    {
      "cell_type": "markdown",
      "source": [
        "# Sprint 02: Machine Learning & Analytics\n",
        "\n",
        "## Definição do Problema\n",
        "\n",
        "Objetivo: Compreender e descrever claramente o problema que está sendo resolvido.\n",
        "\n",
        "Descrição do problema: O problema envolve a segmentação do átrio esquerdo em imagens médicas. Este é um passo fundamental na análise da saúde cardíaca e na detecção de possíveis anormalidades.\n",
        "\n",
        "Premissas ou hipóteses sobre o problema: Estamos assumindo que as etiquetas (labels) fornecidas no conjunto de dados representam com precisão as regiões do átrio esquerdo e do fundo (background) nas imagens.\n",
        "\n",
        "Restrições ou condições impostas para a seleção dos dados: O conjunto de dados fornecido é assumido como representativo da população geral de imagens médicas que o modelo será usado para analisar. Além disso, assumimos que a divisão entre conjuntos de treinamento e teste é razoável e não introduzirá um viés significativo na avaliação do modelo.\n",
        "\n",
        "Descrição do dataset: O conjunto de dados contém imagens rotuladas para treinamento e teste. As etiquetas incluem 'background' e 'left atrium'. O conjunto de dados tem 20 exemplos para treinamento e 10 para teste."
      ],
      "metadata": {
        "id": "8zwGFSMgUWlj"
      }
    },
    {
      "cell_type": "markdown",
      "source": [
        "# 1: Importação de bibliotecas\n",
        "\n",
        "Nesta célula, importamos todas as bibliotecas necessárias para executar o script."
      ],
      "metadata": {
        "id": "K_ATPJFbP4G5"
      }
    },
    {
      "cell_type": "code",
      "source": [
        "# Importação de bibliotecas\n",
        "import numpy as np\n",
        "import json\n",
        "import nibabel as nib\n",
        "from sklearn.model_selection import train_test_split\n",
        "import keras\n",
        "from keras.models import Sequential\n",
        "from keras.layers import Dense, Conv2D, Flatten\n",
        "import gdown\n",
        "import zipfile\n",
        "import os\n",
        "import matplotlib.pyplot as plt\n",
        "\n"
      ],
      "metadata": {
        "id": "RQJ0hlC5L4gb"
      },
      "execution_count": 4,
      "outputs": []
    },
    {
      "cell_type": "markdown",
      "source": [
        "#2: Definindo a função para extrair arquivos\n",
        "Aqui definimos uma função que será responsável por extrair arquivos de um arquivo ZIP para um diretório específico.\n",
        "\n"
      ],
      "metadata": {
        "id": "dnsM6ZjyP8Nk"
      }
    },
    {
      "cell_type": "code",
      "source": [
        "def extract_files(zip_filename, extract_folder):\n",
        "    with zipfile.ZipFile(zip_filename, 'r') as zip_ref:\n",
        "        zip_ref.extractall(extract_folder)\n",
        "\n"
      ],
      "metadata": {
        "id": "wv3isKWUP79r"
      },
      "execution_count": 5,
      "outputs": []
    },
    {
      "cell_type": "markdown",
      "source": [
        "# 3: Definindo a função para baixar arquivos do Google Drive\n",
        "\n",
        "Aqui definimos uma função que será responsável por baixar arquivos do Google Drive."
      ],
      "metadata": {
        "id": "Bvi2h461qyyx"
      }
    },
    {
      "cell_type": "code",
      "source": [
        "def extract_files(zip_filename, extract_folder):\n",
        "    with zipfile.ZipFile(zip_filename, 'r') as zip_ref:\n",
        "        zip_ref.extractall(extract_folder)\n"
      ],
      "metadata": {
        "id": "e6MPUSbUW4y8"
      },
      "execution_count": null,
      "outputs": []
    },
    {
      "cell_type": "markdown",
      "source": [
        "## Carregamento de imagens e rótulos\n",
        "\n",
        "Aqui, carregamos as imagens e rótulos de treinamento usando os caminhos fornecidos no arquivo JSON. As imagens e rótulos são carregados como arrays numpy para facilitar a manipulação posterior.\n"
      ],
      "metadata": {
        "id": "eTo4r9ynQCnO"
      }
    },
    {
      "cell_type": "code",
      "source": [
        "def download_from_drive(file_id, output):\n",
        "    url = f\"https://drive.google.com/uc?id={file_id}\"\n",
        "    gdown.download(url, output, quiet=False)\n"
      ],
      "metadata": {
        "id": "aa0LNPHPQCOO"
      },
      "execution_count": null,
      "outputs": []
    },
    {
      "cell_type": "markdown",
      "source": [
        "## 4: Definindo as variáveis de arquivo e baixando os arquivos\n",
        "Nesta célula, definimos as variáveis que são usadas para especificar os IDs dos arquivos no Google Drive e os nomes dos arquivos ZIP que serão baixados. Em seguida, usamos a função definida na Célula 3 para baixar os arquivos ZIP.\n"
      ],
      "metadata": {
        "id": "41RPQ6vNRkeQ"
      }
    },
    {
      "cell_type": "code",
      "source": [
        "file_id_image = \"GOOGLE_DRIVE_FILE_ID_IMAGE\"\n",
        "image_zip_filename = \"image_filename.zip\"\n",
        "download_from_drive(file_id_image, image_zip_filename)\n",
        "\n",
        "file_id_label = \"GOOGLE_DRIVE_FILE_ID_LABEL\"\n",
        "label_zip_filename = \"label_filename.zip\"\n",
        "download_from_drive(file_id_label, label_zip_filename)\n"
      ],
      "metadata": {
        "colab": {
          "base_uri": "https://localhost:8080/",
          "height": 201
        },
        "id": "AtgnLWosRkRh",
        "outputId": "5eb4b375-6ed4-4f2d-e750-85eb770ba263"
      },
      "execution_count": 6,
      "outputs": [
        {
          "output_type": "error",
          "ename": "NameError",
          "evalue": "ignored",
          "traceback": [
            "\u001b[0;31m---------------------------------------------------------------------------\u001b[0m",
            "\u001b[0;31mNameError\u001b[0m                                 Traceback (most recent call last)",
            "\u001b[0;32m<ipython-input-6-7e083bf17575>\u001b[0m in \u001b[0;36m<cell line: 1>\u001b[0;34m()\u001b[0m\n\u001b[0;32m----> 1\u001b[0;31m \u001b[0mimages\u001b[0m \u001b[0;34m=\u001b[0m \u001b[0mimages\u001b[0m \u001b[0;34m/\u001b[0m \u001b[0mnp\u001b[0m\u001b[0;34m.\u001b[0m\u001b[0mmax\u001b[0m\u001b[0;34m(\u001b[0m\u001b[0mimages\u001b[0m\u001b[0;34m)\u001b[0m\u001b[0;34m\u001b[0m\u001b[0;34m\u001b[0m\u001b[0m\n\u001b[0m\u001b[1;32m      2\u001b[0m \u001b[0;34m\u001b[0m\u001b[0m\n\u001b[1;32m      3\u001b[0m \u001b[0mX_train\u001b[0m\u001b[0;34m,\u001b[0m \u001b[0mX_test\u001b[0m\u001b[0;34m,\u001b[0m \u001b[0my_train\u001b[0m\u001b[0;34m,\u001b[0m \u001b[0my_test\u001b[0m \u001b[0;34m=\u001b[0m \u001b[0mtrain_test_split\u001b[0m\u001b[0;34m(\u001b[0m\u001b[0mimages\u001b[0m\u001b[0;34m,\u001b[0m \u001b[0mlabels\u001b[0m\u001b[0;34m,\u001b[0m \u001b[0mtest_size\u001b[0m\u001b[0;34m=\u001b[0m\u001b[0;36m0.2\u001b[0m\u001b[0;34m,\u001b[0m \u001b[0mrandom_state\u001b[0m\u001b[0;34m=\u001b[0m\u001b[0;36m42\u001b[0m\u001b[0;34m)\u001b[0m\u001b[0;34m\u001b[0m\u001b[0;34m\u001b[0m\u001b[0m\n",
            "\u001b[0;31mNameError\u001b[0m: name 'images' is not defined"
          ]
        }
      ]
    },
    {
      "cell_type": "markdown",
      "source": [
        "## 5: Extraindo os arquivos\n",
        "\n",
        "Aqui usamos a função definida na Célula 2 para extrair os arquivos ZIP das imagens e rótulos para os diretórios especificados.\n"
      ],
      "metadata": {
        "id": "o-A8Ww-gRrkG"
      }
    },
    {
      "cell_type": "code",
      "source": [
        "image_extract_folder = \"images/\"\n",
        "label_extract_folder = \"labels/\"\n",
        "\n",
        "extract_files(image_zip_filename, image_extract_folder)\n",
        "extract_files(label_zip_filename, label_extract_folder)\n"
      ],
      "metadata": {
        "id": "4axawOxzRrbj"
      },
      "execution_count": null,
      "outputs": []
    },
    {
      "cell_type": "markdown",
      "source": [
        "## 6: Carregando dados a partir do arquivo dataset.json\n",
        "\n",
        "Esta célula lê um arquivo JSON que contém os caminhos para as imagens e rótulos de treinamento.\n"
      ],
      "metadata": {
        "id": "YSJY08d1RsOr"
      }
    },
    {
      "cell_type": "code",
      "source": [
        "with open('path/to/dataset.json') as file:\n",
        "    data = json.load(file)\n"
      ],
      "metadata": {
        "id": "9P2n8uEzRrR2"
      },
      "execution_count": null,
      "outputs": []
    },
    {
      "cell_type": "markdown",
      "source": [
        "## 7: Carregamento de imagens e rótulos de treinamento\n",
        "\n",
        "Aqui carregamos as imagens e rótulos de treinamento a partir dos caminhos especificados no arquivo JSON. As imagens e rótulos são armazenados como arrays numpy.\n"
      ],
      "metadata": {
        "id": "FV3Wr7L2RrH9"
      }
    },
    {
      "cell_type": "code",
      "source": [
        "image_folder = 'images/'\n",
        "label_folder = 'labels/'\n",
        "\n",
        "images = []\n",
        "labels = []\n",
        "\n",
        "for image_path, label_path in zip(data['training'], data['labels']):\n",
        "    image = nib.load(image_folder + image_path).get_fdata()\n",
        "    label = nib.load(label_folder + label_path).get_fdata()\n",
        "\n",
        "    images.append(image)\n",
        "    labels.append(label)\n"
      ],
      "metadata": {
        "id": "CElEvmGmRq-I"
      },
      "execution_count": null,
      "outputs": []
    },
    {
      "cell_type": "markdown",
      "source": [
        "## 8: Preparação dos dados\n",
        "Esta célula normaliza as imagens dividindo-as pelo valor máximo em todo o conjunto de dados de imagens. Em seguida, divide os dados em conjuntos de treinamento e teste."
      ],
      "metadata": {
        "id": "N1vtd6lDriFT"
      }
    },
    {
      "cell_type": "code",
      "source": [
        "images = np.array(images)\n",
        "labels = np.array(labels)\n",
        "\n",
        "images = images / np.max(images)\n",
        "\n",
        "X_train, X_test, y_train, y_test = train_test_split(images, labels, test_size=0.2, random_state=42)\n"
      ],
      "metadata": {
        "id": "77ogIf6qrh0V"
      },
      "execution_count": null,
      "outputs": []
    },
    {
      "cell_type": "markdown",
      "source": [
        "## 9: Construção do modelo de Deep Learning\n",
        "Aqui, construímos um modelo de deep learning usando a biblioteca Keras. O modelo é uma rede neural convolucional com duas camadas convolucionais e uma camada densa.[texto do link](https://)"
      ],
      "metadata": {
        "id": "PlIpb_f4rrhm"
      }
    },
    {
      "cell_type": "code",
      "source": [
        "model = Sequential()\n",
        "model.add(Conv2D(64, kernel_size=3, activation='relu', input_shape=X_train[0].shape))\n",
        "model.add(Conv2D(32, kernel_size=3, activation='relu'))\n",
        "model.add(Flatten())\n",
        "model.add(Dense(1, activation='sigmoid'))\n",
        "\n",
        "model.compile(optimizer='adam', loss='binary_crossentropy', metrics=['accuracy'])\n"
      ],
      "metadata": {
        "id": "vwo596a6rrss"
      },
      "execution_count": null,
      "outputs": []
    },
    {
      "cell_type": "markdown",
      "source": [
        "## 10: Treinamento do modelo\n",
        "Esta célula treina o modelo nos dados de treinamento e valida nos dados de teste."
      ],
      "metadata": {
        "id": "pmDrtcOQrzZi"
      }
    },
    {
      "cell_type": "code",
      "source": [
        "history = model.fit(X_train, y_train, validation_data=(X_test, y_test), epochs=10)\n"
      ],
      "metadata": {
        "id": "W-JiZgFKr21k"
      },
      "execution_count": null,
      "outputs": []
    },
    {
      "cell_type": "markdown",
      "source": [
        "## 11: Avaliação do modelo\n",
        "\n",
        "Nesta célula, avaliamos o desempenho do modelo nos dados de teste e imprimimos a perda e a precisão."
      ],
      "metadata": {
        "id": "-7O3Y8KTr4co"
      }
    },
    {
      "cell_type": "code",
      "source": [
        "loss, accuracy = model.evaluate(X_test, y_test)\n",
        "print(f'Loss: {loss}')\n",
        "print(f'Accuracy: {accuracy}')\n"
      ],
      "metadata": {
        "id": "nIU0ccZZr4uN"
      },
      "execution_count": null,
      "outputs": []
    },
    {
      "cell_type": "markdown",
      "source": [
        "##12: Geração de gráficos para análise dos resultados\n",
        " Finalmente, nesta célula, plotamos a precisão do modelo nos dados de treinamento e teste ao longo das épocas de treinamento."
      ],
      "metadata": {
        "id": "Fl6vsVc1sHNI"
      }
    },
    {
      "cell_type": "code",
      "source": [
        "plt.plot(history.history['accuracy'], label='accuracy')\n",
        "plt.plot(history.history['val_accuracy'], label='val_accuracy')\n",
        "plt.xlabel('Epoch')\n",
        "plt.ylabel('Accuracy')\n",
        "plt.legend()\n",
        "plt.show()\n"
      ],
      "metadata": {
        "id": "DxrOYoHEsGxI"
      },
      "execution_count": null,
      "outputs": []
    }
  ]
}